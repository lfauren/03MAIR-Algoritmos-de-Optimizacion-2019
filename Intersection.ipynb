{
  "nbformat": 4,
  "nbformat_minor": 0,
  "metadata": {
    "colab": {
      "name": "Intersection.ipynb",
      "version": "0.3.2",
      "provenance": [],
      "include_colab_link": true
    },
    "kernelspec": {
      "name": "python3",
      "display_name": "Python 3"
    }
  },
  "cells": [
    {
      "cell_type": "markdown",
      "metadata": {
        "id": "view-in-github",
        "colab_type": "text"
      },
      "source": [
        "<a href=\"https://colab.research.google.com/github/lfauren/03MAIR-Algoritmos-de-Optimizacion-2019/blob/master/Intersection.ipynb\" target=\"_parent\"><img src=\"https://colab.research.google.com/assets/colab-badge.svg\" alt=\"Open In Colab\"/></a>"
      ]
    },
    {
      "metadata": {
        "id": "tIU9b0WBznl5",
        "colab_type": "code",
        "colab": {
          "base_uri": "https://localhost:8080/",
          "height": 35
        },
        "outputId": "7ce51b21-62c6-4479-c817-317024fbb954"
      },
      "cell_type": "code",
      "source": [
        "A = [1, 2, 6, 7, 12, 13, 15]\n",
        "B = [2, 3, 4, 7, 13]\n",
        "K = []\n",
        "for i in A:\n",
        "  for j in B:\n",
        "    if i == j:\n",
        "      K.append(i)\n",
        "print(K)\n",
        "    "
      ],
      "execution_count": 2,
      "outputs": [
        {
          "output_type": "stream",
          "text": [
            "[2, 7, 13]\n"
          ],
          "name": "stdout"
        }
      ]
    }
  ]
}