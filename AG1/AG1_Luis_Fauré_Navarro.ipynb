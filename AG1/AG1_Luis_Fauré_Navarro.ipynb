{
  "nbformat": 4,
  "nbformat_minor": 0,
  "metadata": {
    "colab": {
      "name": "AG1-Luis_Fauré_Navarro.ipynb",
      "version": "0.3.2",
      "provenance": [],
      "include_colab_link": true
    },
    "kernelspec": {
      "name": "python3",
      "display_name": "Python 3"
    }
  },
  "cells": [
    {
      "cell_type": "markdown",
      "metadata": {
        "id": "view-in-github",
        "colab_type": "text"
      },
      "source": [
        "<a href=\"https://colab.research.google.com/github/lfauren/03MAIR-Algoritmos-de-Optimizacion-2019/blob/master/AG1/AG1_Luis_Faur%C3%A9_Navarro.ipynb\" target=\"_parent\"><img src=\"https://colab.research.google.com/assets/colab-badge.svg\" alt=\"Open In Colab\"/></a>"
      ]
    },
    {
      "metadata": {
        "id": "uo3uJSRJomk5",
        "colab_type": "code",
        "colab": {}
      },
      "cell_type": "code",
      "source": [
        ""
      ],
      "execution_count": 0,
      "outputs": []
    },
    {
      "metadata": {
        "id": "-x4wRz47o_pT",
        "colab_type": "text"
      },
      "cell_type": "markdown",
      "source": [
        "AG1 - Actividad 1\n",
        "Luis Fauré Navarro\n",
        "https://github.com/lfauren/03MAIR-Algoritmos-de-Optimizacion-2019/tree/master/AG1"
      ]
    },
    {
      "metadata": {
        "id": "wl50_X8gp2J5",
        "colab_type": "code",
        "colab": {
          "base_uri": "https://localhost:8080/",
          "height": 466
        },
        "outputId": "cd7f5a7b-6b02-4542-981f-ec3002efac8a"
      },
      "cell_type": "code",
      "source": [
        "# QuickSort\n",
        "A = [9187, 244, 4054, 9222, 8373, 4993, 5265, 5470, 4519, 7182, 2035, 3506, 4337, 7580, 2554, 2824, 8357, 4447, 7379]\n",
        "\n",
        "def quick_sort(A):\n",
        "  if len(A) == 1:\n",
        "    return A\n",
        "  if len(A) == 2:\n",
        "    return [min(A),max(A)]\n",
        "  pivote = (A[0] + A[1] +A [2])/3\n",
        "  \n",
        "  for i in A:\n",
        "    if i<=pivote:\n",
        "      IZQ.append(i)\n",
        "    else:\n",
        "      DER.append(i)\n",
        "    \n",
        "  return quick_sort(IZQ)+quick_sort(DER)\n",
        "\n",
        "#@calcular_tiempo\n",
        "def QS(A):\n",
        "  return quick_sort(A)\n",
        "\n",
        "print (QS(A))"
      ],
      "execution_count": 10,
      "outputs": [
        {
          "output_type": "error",
          "ename": "NameError",
          "evalue": "ignored",
          "traceback": [
            "\u001b[0;31m---------------------------------------------------------------------------\u001b[0m",
            "\u001b[0;31mNameError\u001b[0m                                 Traceback (most recent call last)",
            "\u001b[0;32m<ipython-input-10-4606bec50550>\u001b[0m in \u001b[0;36m<module>\u001b[0;34m()\u001b[0m\n\u001b[1;32m     20\u001b[0m   \u001b[0;32mreturn\u001b[0m \u001b[0mquick_sort\u001b[0m\u001b[0;34m(\u001b[0m\u001b[0mA\u001b[0m\u001b[0;34m)\u001b[0m\u001b[0;34m\u001b[0m\u001b[0;34m\u001b[0m\u001b[0m\n\u001b[1;32m     21\u001b[0m \u001b[0;34m\u001b[0m\u001b[0m\n\u001b[0;32m---> 22\u001b[0;31m \u001b[0mprint\u001b[0m \u001b[0;34m(\u001b[0m\u001b[0mQS\u001b[0m\u001b[0;34m(\u001b[0m\u001b[0mA\u001b[0m\u001b[0;34m)\u001b[0m\u001b[0;34m)\u001b[0m\u001b[0;34m\u001b[0m\u001b[0;34m\u001b[0m\u001b[0m\n\u001b[0m",
            "\u001b[0;32m<ipython-input-10-4606bec50550>\u001b[0m in \u001b[0;36mQS\u001b[0;34m(A)\u001b[0m\n\u001b[1;32m     18\u001b[0m \u001b[0;31m#@calcular_tiempo\u001b[0m\u001b[0;34m\u001b[0m\u001b[0;34m\u001b[0m\u001b[0;34m\u001b[0m\u001b[0m\n\u001b[1;32m     19\u001b[0m \u001b[0;32mdef\u001b[0m \u001b[0mQS\u001b[0m\u001b[0;34m(\u001b[0m\u001b[0mA\u001b[0m\u001b[0;34m)\u001b[0m\u001b[0;34m:\u001b[0m\u001b[0;34m\u001b[0m\u001b[0;34m\u001b[0m\u001b[0m\n\u001b[0;32m---> 20\u001b[0;31m   \u001b[0;32mreturn\u001b[0m \u001b[0mquick_sort\u001b[0m\u001b[0;34m(\u001b[0m\u001b[0mA\u001b[0m\u001b[0;34m)\u001b[0m\u001b[0;34m\u001b[0m\u001b[0;34m\u001b[0m\u001b[0m\n\u001b[0m\u001b[1;32m     21\u001b[0m \u001b[0;34m\u001b[0m\u001b[0m\n\u001b[1;32m     22\u001b[0m \u001b[0mprint\u001b[0m \u001b[0;34m(\u001b[0m\u001b[0mQS\u001b[0m\u001b[0;34m(\u001b[0m\u001b[0mA\u001b[0m\u001b[0;34m)\u001b[0m\u001b[0;34m)\u001b[0m\u001b[0;34m\u001b[0m\u001b[0;34m\u001b[0m\u001b[0m\n",
            "\u001b[0;32m<ipython-input-10-4606bec50550>\u001b[0m in \u001b[0;36mquick_sort\u001b[0;34m(A)\u001b[0m\n\u001b[1;32m     12\u001b[0m       \u001b[0mIZQ\u001b[0m\u001b[0;34m.\u001b[0m\u001b[0mappend\u001b[0m\u001b[0;34m(\u001b[0m\u001b[0mi\u001b[0m\u001b[0;34m)\u001b[0m\u001b[0;34m\u001b[0m\u001b[0;34m\u001b[0m\u001b[0m\n\u001b[1;32m     13\u001b[0m     \u001b[0;32melse\u001b[0m\u001b[0;34m:\u001b[0m\u001b[0;34m\u001b[0m\u001b[0;34m\u001b[0m\u001b[0m\n\u001b[0;32m---> 14\u001b[0;31m       \u001b[0mDER\u001b[0m\u001b[0;34m.\u001b[0m\u001b[0mappend\u001b[0m\u001b[0;34m(\u001b[0m\u001b[0mi\u001b[0m\u001b[0;34m)\u001b[0m\u001b[0;34m\u001b[0m\u001b[0;34m\u001b[0m\u001b[0m\n\u001b[0m\u001b[1;32m     15\u001b[0m \u001b[0;34m\u001b[0m\u001b[0m\n\u001b[1;32m     16\u001b[0m   \u001b[0;32mreturn\u001b[0m \u001b[0mquick_sort\u001b[0m\u001b[0;34m(\u001b[0m\u001b[0mIZQ\u001b[0m\u001b[0;34m)\u001b[0m\u001b[0;34m+\u001b[0m\u001b[0mquick_sort\u001b[0m\u001b[0;34m(\u001b[0m\u001b[0mDER\u001b[0m\u001b[0;34m)\u001b[0m\u001b[0;34m\u001b[0m\u001b[0;34m\u001b[0m\u001b[0m\n",
            "\u001b[0;31mNameError\u001b[0m: name 'DER' is not defined"
          ]
        }
      ]
    },
    {
      "metadata": {
        "id": "ojYj5hUGxMT5",
        "colab_type": "code",
        "colab": {
          "base_uri": "https://localhost:8080/",
          "height": 135
        },
        "outputId": "49ea78a4-8d64-4c9f-c86f-85f2538733e0"
      },
      "cell_type": "code",
      "source": [
        "SISTEMA=[25,10,5,1]\n",
        "def cambio_monedas(C,SISTEMA):\n",
        "  SOLUCION = [0 for i in range(len(SISTEMA))]\n",
        "  VALOR_ACUMULADO = 0\n",
        "  for i in range(len(SISTEMA)):\n",
        "    monedas = int(CANTIDAD - VALOR_ACUMULADO/SISTEMA[i])\n",
        "    SOLUCION[i] = monedas\n",
        "    VALOR_ACUMULADO += monedas*SISTEMA[i]\n",
        "    if C == VALOR_ACUMULADO:\n",
        "  return SOLUCION\n",
        "  \n",
        "  \n",
        "  \n",
        "  cambio_monedas (99, SISTEMA)"
      ],
      "execution_count": 14,
      "outputs": [
        {
          "output_type": "error",
          "ename": "IndentationError",
          "evalue": "ignored",
          "traceback": [
            "\u001b[0;36m  File \u001b[0;32m\"<ipython-input-14-f9c6483baee2>\"\u001b[0;36m, line \u001b[0;32m10\u001b[0m\n\u001b[0;31m    return SOLUCION\u001b[0m\n\u001b[0m    ^\u001b[0m\n\u001b[0;31mIndentationError\u001b[0m\u001b[0;31m:\u001b[0m expected an indented block\n"
          ]
        }
      ]
    },
    {
      "metadata": {
        "id": "ZQNRCjy3xTQI",
        "colab_type": "code",
        "colab": {}
      },
      "cell_type": "code",
      "source": [
        "# 4 reinas\n",
        "def reinas(N,solucion,etapa):\n",
        "  for i in range(1,N+1):\n",
        "    solucion[etapa] = i\n",
        "    if es_prometedora(solucion,etapa):\n",
        "      if etapa == N-1:\n",
        "        print(\"\\n\\nLa solución es:\")\n",
        "        print(solucion)\n",
        "        escribe(solucion)\n",
        "      else:\n",
        "        reinas(N,solucion,etapa+1)\n",
        "    else:\n",
        "      None\n",
        "      \n",
        "    solucion[etapa]=0\n",
        "\n",
        "def es_prometedora(SOLUCION,etapa):\n",
        "  for i in range(etapa+1):\n",
        "    if SOLUCION.count(SOLUCION[i])>1:\n",
        "      return False\n",
        "    for j in range(i+1,etapa+1):\n",
        "      if abs(i-j) == abs(SOLUCION[i]-SOLUCION[j]):\n",
        "        return False\n",
        "  return True"
      ],
      "execution_count": 0,
      "outputs": []
    },
    {
      "metadata": {
        "id": "HpIbFatdxQMv",
        "colab_type": "code",
        "colab": {}
      },
      "cell_type": "code",
      "source": [
        ""
      ],
      "execution_count": 0,
      "outputs": []
    },
    {
      "metadata": {
        "id": "mHRxmhmAtGBA",
        "colab_type": "code",
        "colab": {}
      },
      "cell_type": "code",
      "source": [
        "from time import time\n",
        "\n",
        "#Función que ejecuta un algoritmo en base a los siguientes parámetros:\n",
        "#Valor: veces que recorrerá cada bucle\n",
        "#Tipo: tipo de algoritmo a ejecutar. Inicialmente sólo hay de primer órden, cuadrático y polinomial, pero se podrán añadir\n",
        "#más tipos de algoritmos con posterioridad.\n",
        "#Esta función calcula el tiempo que tarda en ejecutarse cada uno\n",
        "def algoritmo(valor,tipo):\n",
        "    inicio = time() \n",
        "    resultado=0\n",
        "    if(tipo=='n'):\n",
        "        for i in range(valor):\n",
        "            resultado=valor+1\n",
        "    if(tipo=='cuadratico'):\n",
        "        for i in range(valor):\n",
        "            for j in range(valor):\n",
        "                resultado=valor+1\n",
        "    if(tipo=='polinomial'):\n",
        "        for i in range(valor):\n",
        "            for j in range(valor):\n",
        "                for k in range(valor):\n",
        "                    resultado=valor+1\n",
        "    tiempo = time() - inicio\n",
        "    \n",
        "    from time import time\n",
        "#Función para calcular el tiempo de ejecución\n",
        "def calcular_tiempo(f):\n",
        "   \n",
        "    def wrapper(a,b):\n",
        "        \n",
        "        inicio = time()       \n",
        "        resultado = f(a,b)       \n",
        "        tiempo = time() - inicio\n",
        "        print(\"Tiempo de ejecución para algoritmo: \"+str(tiempo))\n",
        "        return resultado\n",
        "    \n",
        "    return wrapper\n",
        "\n",
        "#Se aplica el decorador calcular_tiempo a la función para la cual queremos calcular el tiempo de ejecución\n",
        "@calcular_tiempo\n",
        "def algoritmo(valor,tipo):\n",
        "    \n",
        "    resultado=0\n",
        "    if(tipo=='n'):\n",
        "        for i in range(valor):\n",
        "            resultado=valor+1\n",
        "    if(tipo=='cuadratico'):\n",
        "        for i in range(valor):\n",
        "            for j in range(valor):\n",
        "                resultado=valor+1\n",
        "    if(tipo=='polinomial'):\n",
        "        for i in range(valor):\n",
        "            for j in range(valor):\n",
        "                for k in range(valor):\n",
        "                    resultado=valor+1\n",
        "                    \n",
        "algoritmo(30000,'n')"
      ],
      "execution_count": 0,
      "outputs": []
    }
  ]
}