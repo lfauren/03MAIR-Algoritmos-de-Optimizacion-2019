{
  "nbformat": 4,
  "nbformat_minor": 0,
  "metadata": {
    "colab": {
      "name": "Sort_Test.ipynb",
      "version": "0.3.2",
      "provenance": [],
      "include_colab_link": true
    },
    "kernelspec": {
      "name": "python3",
      "display_name": "Python 3"
    }
  },
  "cells": [
    {
      "cell_type": "markdown",
      "metadata": {
        "id": "view-in-github",
        "colab_type": "text"
      },
      "source": [
        "<a href=\"https://colab.research.google.com/github/lfauren/03MAIR-Algoritmos-de-Optimizacion-2019/blob/master/AG1/Sort_Test.ipynb\" target=\"_parent\"><img src=\"https://colab.research.google.com/assets/colab-badge.svg\" alt=\"Open In Colab\"/></a>"
      ]
    },
    {
      "metadata": {
        "id": "y01mDr_6apFy",
        "colab_type": "code",
        "colab": {
          "base_uri": "https://localhost:8080/",
          "height": 164
        },
        "outputId": "522a9f61-56b0-4604-b71f-43b8f44cb216"
      },
      "cell_type": "code",
      "source": [
        "!pip install sorting"
      ],
      "execution_count": 2,
      "outputs": [
        {
          "output_type": "stream",
          "text": [
            "Collecting sorting\n",
            "  Downloading https://files.pythonhosted.org/packages/5f/c8/2d2318aa6697f8771371bdfb27c12bff5437f5b2f323a11563f2a8bf4fdf/sorting-1.0.2.tar.gz\n",
            "Building wheels for collected packages: sorting\n",
            "  Building wheel for sorting (setup.py) ... \u001b[?25ldone\n",
            "\u001b[?25h  Stored in directory: /root/.cache/pip/wheels/1d/69/7d/afb45b857f9cd6d7927312839c0928f20284f476cb4265474e\n",
            "Successfully built sorting\n",
            "Installing collected packages: sorting\n",
            "Successfully installed sorting-1.0.2\n"
          ],
          "name": "stdout"
        }
      ]
    },
    {
      "metadata": {
        "id": "He4PLqSDeTyo",
        "colab_type": "text"
      },
      "cell_type": "markdown",
      "source": [
        "Este es mi primer código en Github"
      ]
    },
    {
      "metadata": {
        "id": "UGg9jvhZcYEJ",
        "colab_type": "code",
        "colab": {
          "base_uri": "https://localhost:8080/",
          "height": 35
        },
        "outputId": "65f38a38-f781-4efe-e421-44c3284d7093"
      },
      "cell_type": "code",
      "source": [
        "import sorting\n",
        "lista = [1, 45, 123, 457, 1232, 2, 213, 23]\n",
        "lista_ordenada = sorting.bubble(lista)\n",
        "print (lista_ordenada)"
      ],
      "execution_count": 3,
      "outputs": [
        {
          "output_type": "stream",
          "text": [
            "[1, 2, 23, 45, 123, 213, 457, 1232]\n"
          ],
          "name": "stdout"
        }
      ]
    }
  ]
}