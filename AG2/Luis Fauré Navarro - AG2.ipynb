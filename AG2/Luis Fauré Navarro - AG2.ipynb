{
  "nbformat": 4,
  "nbformat_minor": 0,
  "metadata": {
    "colab": {
      "name": "Luis Fauré Navarro - AG2.ipynb",
      "version": "0.3.2",
      "provenance": [],
      "include_colab_link": true
    },
    "kernelspec": {
      "name": "python3",
      "display_name": "Python 3"
    }
  },
  "cells": [
    {
      "cell_type": "markdown",
      "metadata": {
        "id": "view-in-github",
        "colab_type": "text"
      },
      "source": [
        "<a href=\"https://colab.research.google.com/github/lfauren/03MAIR-Algoritmos-de-Optimizacion-2019/blob/master/AG2/Luis%20Faur%C3%A9%20Navarro%20-%20AG2.ipynb\" target=\"_parent\"><img src=\"https://colab.research.google.com/assets/colab-badge.svg\" alt=\"Open In Colab\"/></a>"
      ]
    },
    {
      "metadata": {
        "id": "JXszRa45hh0I",
        "colab_type": "text"
      },
      "cell_type": "markdown",
      "source": [
        "Luis Fauré Navarro - AG2<br>\n",
        "Actividad Guiada 2<br>\n",
        "Url: https://github.com/lfauren/03MAIR-Algoritmos-de-Optimizacion-2019/tree/master/AG2\n"
      ]
    },
    {
      "metadata": {
        "id": "QTQrZoSch6Gm",
        "colab_type": "code",
        "colab": {}
      },
      "cell_type": "code",
      "source": [
        "from time import time\n",
        "#Función para calcular el tiempo de ejecución\n",
        "def calcular_tiempo(f): \n",
        "    def wrapper(*args, **kwargs):      \n",
        "        inicio = time()       \n",
        "        resultado = f(*args, **kwargs)       \n",
        "        tiempo = time() - inicio\n",
        "        print(\"Tiempo de ejecución para algoritmo: \"+str(tiempo))\n",
        "        return resultado \n",
        "    return wrapper"
      ],
      "execution_count": 0,
      "outputs": []
    },
    {
      "metadata": {
        "id": "94BLsvw-iGke",
        "colab_type": "code",
        "colab": {
          "base_uri": "https://localhost:8080/",
          "height": 35
        },
        "outputId": "4fba37a1-dc7e-4e1c-c408-949ea008e6d8"
      },
      "cell_type": "code",
      "source": [
        "import math\n",
        "import random\n",
        "\n",
        "N=1000\n",
        "LISTA_2D = [(random.randrange(1,N*10),random.randrange(1,N*10)) for _ in range(N)]\n",
        "print(LISTA_2D[:5])"
      ],
      "execution_count": 1,
      "outputs": [
        {
          "output_type": "stream",
          "text": [
            "[(3906, 6809), (6130, 7665), (7189, 238), (2947, 1963), (1349, 3549)]\n"
          ],
          "name": "stdout"
        }
      ]
    },
    {
      "metadata": {
        "id": "1k3K3pnEiYEF",
        "colab_type": "code",
        "colab": {
          "base_uri": "https://localhost:8080/",
          "height": 35
        },
        "outputId": "13a2227a-391a-43a1-f2d0-1e516ccd3f03"
      },
      "cell_type": "code",
      "source": [
        "def distancia(A,B):\n",
        "  if type(A) is int or type(A) is float:\n",
        "    return abs(B-A)\n",
        "  else:\n",
        "    return math.sqrt(sum([(A[i]-B[i])**2 for i in range(len(A))]))\n",
        "\n",
        "distancia((1,3),(2,5))"
      ],
      "execution_count": 2,
      "outputs": [
        {
          "output_type": "execute_result",
          "data": {
            "text/plain": [
              "2.23606797749979"
            ]
          },
          "metadata": {
            "tags": []
          },
          "execution_count": 2
        }
      ]
    },
    {
      "metadata": {
        "id": "sRyun3xIigY_",
        "colab_type": "code",
        "colab": {
          "base_uri": "https://localhost:8080/",
          "height": 54
        },
        "outputId": "2fcc080f-749f-496f-8668-72332212076f"
      },
      "cell_type": "code",
      "source": [
        "# Fuerza bruta\n",
        "@calcular_tiempo\n",
        "def distancia_fuerza_bruta(L):\n",
        "  mejor_distancia = 100000e10\n",
        "  A,B = (),()\n",
        "  for i in range(len(L)):\n",
        "    for j in range(i+1,len(L)):\n",
        "        if distancia(L[i],L[j]) < mejor_distancia:\n",
        "          A,B = L[i],L[j]\n",
        "  return A,B\n",
        "\n",
        "distancia_fuerza_bruta(LISTA_2D)"
      ],
      "execution_count": 4,
      "outputs": [
        {
          "output_type": "stream",
          "text": [
            "Tiempo de ejecución para algoritmo: 1.134321928024292\n"
          ],
          "name": "stdout"
        },
        {
          "output_type": "execute_result",
          "data": {
            "text/plain": [
              "((5327, 3724), (7125, 1077))"
            ]
          },
          "metadata": {
            "tags": []
          },
          "execution_count": 4
        }
      ]
    },
    {
      "metadata": {
        "id": "m1cDwjRMi84d",
        "colab_type": "code",
        "colab": {
          "base_uri": "https://localhost:8080/",
          "height": 109
        },
        "outputId": "7cc5891a-45fe-48a8-da26-66ff861dcecc"
      },
      "cell_type": "code",
      "source": [
        "def distancia_divide_y_venceras(L):\n",
        "  if len(L) < 10:\n",
        "    return distancia_fuerza_bruta(L)\n",
        "  #pivote = sum([L[i][0] for i in range(len(L))])/len(L)\n",
        "  LISTA_IZQ = sorted(L, key=lambda x: x[0])[:len(L)//2]\n",
        "  LISTA_DER = sorted(L, key=lambda x: x[0])[len(L)//2:]\n",
        "  PUNTOS_LISTA_IZQ = distancia_divide_y_venceras(LISTA_IZQ)\n",
        "  PUNTOS_LISTA_DER = distancia_divide_y_venceras(LISTA_DER)\n",
        "  return distancia_fuerza_bruta(PUNTOS_LISTA_IZQ + PUNTOS_LISTA_DER) \n",
        "\n",
        "@calcular_tiempo\n",
        "def LANZA(L):\n",
        "  return distancia_divide_y_venceras(L)\n",
        "\n",
        "SOL = LANZA(LISTA_2D[:15])\n",
        "print(SOL)"
      ],
      "execution_count": 5,
      "outputs": [
        {
          "output_type": "stream",
          "text": [
            "Tiempo de ejecución para algoritmo: 5.793571472167969e-05\n",
            "Tiempo de ejecución para algoritmo: 7.2479248046875e-05\n",
            "Tiempo de ejecución para algoritmo: 1.8358230590820312e-05\n",
            "Tiempo de ejecución para algoritmo: 0.00159454345703125\n",
            "((8153, 6500), (9566, 1376))\n"
          ],
          "name": "stdout"
        }
      ]
    },
    {
      "metadata": {
        "id": "T0VJJOT9j1T_",
        "colab_type": "code",
        "colab": {
          "base_uri": "https://localhost:8080/",
          "height": 147
        },
        "outputId": "f03d6856-55d3-4b67-b3e5-dd14c2608aeb"
      },
      "cell_type": "code",
      "source": [
        "TARIFAS = [[0,5,4,3,999,999,999],\n",
        "           [999,0,999,2,3,999,11],\n",
        "           [999,999, 0,1,999,4,10],\n",
        "           [999,999,999, 0,5,6,9],\n",
        "           [999,999, 999,999,0,999,4],\n",
        "           [999,999, 999,999,999,0,3],\n",
        "           [999,999,999,999,999,999,0]]\n",
        "\n",
        "def Precios(TARIFAS):\n",
        "  N=len(TARIFAS[0])\n",
        "  PRECIOS = [[9999]*N for i in [9999]*N]\n",
        "  RUTAS = [[\"\"]*N for i in [\"\"]*N]\n",
        "  for i in range(N-1):\n",
        "    for j in range(i+1,N):\n",
        "      MIN = TARIFAS[i][j]\n",
        "      RUTAS[i][j] = i\n",
        "      for k in range(i,j):\n",
        "        if PRECIOS[i][k] + TARIFAS[k][j] < MIN:\n",
        "          MIN = min(MIN, PRECIOS[i][k] + TARIFAS[k][j])\n",
        "          RUTAS[i][j] = k\n",
        "      PRECIOS[i][j] = MIN\n",
        "  return PRECIOS, RUTAS\n",
        "\n",
        "PRECIOS, RUTAS = Precios(TARIFAS)\n",
        "print(PRECIOS)\n",
        "print()\n",
        "print(RUTAS)\n",
        "\n",
        "def calcular_ruta(RUTAS, desde, hasta):\n",
        "  if desde == hasta:\n",
        "    return desde\n",
        "  else:\n",
        "    return str(calcular_ruta(RUTAS,desde,RUTAS[desde][hasta])) + ',' + str(RUTAS[desde][hasta])\n",
        "  \n",
        "print('\\nLa ruta es:')\n",
        "calcular_ruta(RUTAS,0,6)"
      ],
      "execution_count": 6,
      "outputs": [
        {
          "output_type": "stream",
          "text": [
            "[[9999, 5, 4, 3, 8, 8, 11], [9999, 9999, 999, 2, 3, 8, 7], [9999, 9999, 9999, 1, 6, 4, 7], [9999, 9999, 9999, 9999, 5, 6, 9], [9999, 9999, 9999, 9999, 9999, 999, 4], [9999, 9999, 9999, 9999, 9999, 9999, 3], [9999, 9999, 9999, 9999, 9999, 9999, 9999]]\n",
            "\n",
            "[['', 0, 0, 0, 1, 2, 5], ['', '', 1, 1, 1, 3, 4], ['', '', '', 2, 3, 2, 5], ['', '', '', '', 3, 3, 3], ['', '', '', '', '', 4, 4], ['', '', '', '', '', '', 5], ['', '', '', '', '', '', '']]\n",
            "\n",
            "La ruta es:\n"
          ],
          "name": "stdout"
        },
        {
          "output_type": "execute_result",
          "data": {
            "text/plain": [
              "'0,0,2,5'"
            ]
          },
          "metadata": {
            "tags": []
          },
          "execution_count": 6
        }
      ]
    },
    {
      "metadata": {
        "colab_type": "code",
        "outputId": "c0a594df-797c-47e0-ef3c-e210fdcc3110",
        "id": "BT-OwKOv4Q9j",
        "colab": {
          "base_uri": "https://localhost:8080/",
          "height": 338
        }
      },
      "cell_type": "code",
      "source": [
        "# Estime conveniente agregar El problema de la asignación de tareas en Ramificación y poda explicado al final de la clase.\n",
        "# cma: el coste mínimo absoluto alcanzable.\n",
        "# cms: el coste de la mejor solución obtenida hasta el momento.\n",
        "# Aunque me sale un error extraño de una función no definida se puede entender mejor el problema\n",
        "\n",
        "def init_ms(c):\n",
        "  n = len(c)\n",
        "  cdiag1 = 0\n",
        "  cdiag2 = 0\n",
        "  for i in  range(n):\n",
        "    cdiag1  += c[i][i]\n",
        "    cdiag2  += c[i][n-i-1]\n",
        "  if cdiag1 <= cdiag2:\n",
        "    return [i for i in  range(n)], cdiag1\n",
        "  else:\n",
        "    return [n-i-1 for i in  range(n)], cdiag2\n",
        "\n",
        "  def compute_cma(x,c):\n",
        "    n = len(c)\n",
        "    k = len(x)\n",
        "    coste_x = 0\n",
        "    for i in range(k):\n",
        "      coste_x  += c[i][x[i]]\n",
        "    sum_minf = sum(min(c[i][j] for j in range(n) if j not in x) for i in range(k,n))\n",
        "    sum_minc = sum(min(c[i][j] for i in range(k,n)) for j in  range(n) if j not in x)\n",
        "    return  coste_x + max(sum_minf ,sum_minc)\n",
        "\n",
        "def asignar(c):\n",
        "  n = len(c)\n",
        "  ms, cms = init_ms(c)\n",
        "  cma = compute_cma([],c)\n",
        "  if cma <cms:\n",
        "    nodo_raiz = [[],cma] # nodo  raiz: [tupla  vacia , cma  global]\n",
        "    lista = [nodo_raiz]   # lista  de  nodos  vivos\n",
        "  while  len(lista) >0:       # mientras  queden  nodos  vivos\n",
        "    x, cma = lista.pop() # extraemos  el nodo  más  prometedor\n",
        "    tareas = [t for t in range(n) if t not in x]\n",
        "    for t in  tareas:      # ramificacion\n",
        "      x_new = x[:]+[t]\n",
        "      cma_new = compute_cma(x_new ,c)\n",
        "      if cma_new <cms:   # nodo  podado  si  cma_new  >= cms\n",
        "        if len(x_new)==n: # x_new  es  solucion\n",
        "          ms, cms = x_new , cma_new\n",
        "          # cms  actualizado  --> poda de  nodos  con cma >=cms\n",
        "          while  len(lista)>0 and  lista [0][1] >= cms:\n",
        "            lista.pop(0)\n",
        "        else: # insercion  en  orden (de  mayor a menor  cma)\n",
        "          i=len(lista)-1\n",
        "          while i>=0 and lista[i][1]<cma_new:\n",
        "            i=i-1\n",
        "          lista.insert(i+1,[x_new ,cma_new ])\n",
        "  return ms, cms\n",
        "\n",
        "A=[(9,2,7,8),(6,4,3,7),(5,8,1,8),(7,6,9,4)]\n",
        "print(asignar(A))"
      ],
      "execution_count": 0,
      "outputs": [
        {
          "output_type": "error",
          "ename": "NameError",
          "evalue": "ignored",
          "traceback": [
            "\u001b[0;31m---------------------------------------------------------------------------\u001b[0m",
            "\u001b[0;31mNameError\u001b[0m                                 Traceback (most recent call last)",
            "\u001b[0;32m<ipython-input-16-a2eba303e1ba>\u001b[0m in \u001b[0;36m<module>\u001b[0;34m()\u001b[0m\n\u001b[1;32m     49\u001b[0m \u001b[0;34m\u001b[0m\u001b[0m\n\u001b[1;32m     50\u001b[0m \u001b[0mA\u001b[0m\u001b[0;34m=\u001b[0m\u001b[0;34m[\u001b[0m\u001b[0;34m(\u001b[0m\u001b[0;36m9\u001b[0m\u001b[0;34m,\u001b[0m\u001b[0;36m2\u001b[0m\u001b[0;34m,\u001b[0m\u001b[0;36m7\u001b[0m\u001b[0;34m,\u001b[0m\u001b[0;36m8\u001b[0m\u001b[0;34m)\u001b[0m\u001b[0;34m,\u001b[0m\u001b[0;34m(\u001b[0m\u001b[0;36m6\u001b[0m\u001b[0;34m,\u001b[0m\u001b[0;36m4\u001b[0m\u001b[0;34m,\u001b[0m\u001b[0;36m3\u001b[0m\u001b[0;34m,\u001b[0m\u001b[0;36m7\u001b[0m\u001b[0;34m)\u001b[0m\u001b[0;34m,\u001b[0m\u001b[0;34m(\u001b[0m\u001b[0;36m5\u001b[0m\u001b[0;34m,\u001b[0m\u001b[0;36m8\u001b[0m\u001b[0;34m,\u001b[0m\u001b[0;36m1\u001b[0m\u001b[0;34m,\u001b[0m\u001b[0;36m8\u001b[0m\u001b[0;34m)\u001b[0m\u001b[0;34m,\u001b[0m\u001b[0;34m(\u001b[0m\u001b[0;36m7\u001b[0m\u001b[0;34m,\u001b[0m\u001b[0;36m6\u001b[0m\u001b[0;34m,\u001b[0m\u001b[0;36m9\u001b[0m\u001b[0;34m,\u001b[0m\u001b[0;36m4\u001b[0m\u001b[0;34m)\u001b[0m\u001b[0;34m]\u001b[0m\u001b[0;34m\u001b[0m\u001b[0;34m\u001b[0m\u001b[0m\n\u001b[0;32m---> 51\u001b[0;31m \u001b[0mprint\u001b[0m\u001b[0;34m(\u001b[0m\u001b[0masignar\u001b[0m\u001b[0;34m(\u001b[0m\u001b[0mA\u001b[0m\u001b[0;34m)\u001b[0m\u001b[0;34m)\u001b[0m\u001b[0;34m\u001b[0m\u001b[0;34m\u001b[0m\u001b[0m\n\u001b[0m",
            "\u001b[0;32m<ipython-input-16-a2eba303e1ba>\u001b[0m in \u001b[0;36masignar\u001b[0;34m(c)\u001b[0m\n\u001b[1;32m     25\u001b[0m   \u001b[0mn\u001b[0m \u001b[0;34m=\u001b[0m \u001b[0mlen\u001b[0m\u001b[0;34m(\u001b[0m\u001b[0mc\u001b[0m\u001b[0;34m)\u001b[0m\u001b[0;34m\u001b[0m\u001b[0;34m\u001b[0m\u001b[0m\n\u001b[1;32m     26\u001b[0m   \u001b[0mms\u001b[0m\u001b[0;34m,\u001b[0m \u001b[0mcms\u001b[0m \u001b[0;34m=\u001b[0m \u001b[0minit_ms\u001b[0m\u001b[0;34m(\u001b[0m\u001b[0mc\u001b[0m\u001b[0;34m)\u001b[0m\u001b[0;34m\u001b[0m\u001b[0;34m\u001b[0m\u001b[0m\n\u001b[0;32m---> 27\u001b[0;31m   \u001b[0mcma\u001b[0m \u001b[0;34m=\u001b[0m \u001b[0mcompute_cma\u001b[0m\u001b[0;34m(\u001b[0m\u001b[0;34m[\u001b[0m\u001b[0;34m]\u001b[0m\u001b[0;34m,\u001b[0m\u001b[0mc\u001b[0m\u001b[0;34m)\u001b[0m\u001b[0;34m\u001b[0m\u001b[0;34m\u001b[0m\u001b[0m\n\u001b[0m\u001b[1;32m     28\u001b[0m   \u001b[0;32mif\u001b[0m \u001b[0mcma\u001b[0m \u001b[0;34m<\u001b[0m\u001b[0mcms\u001b[0m\u001b[0;34m:\u001b[0m\u001b[0;34m\u001b[0m\u001b[0;34m\u001b[0m\u001b[0m\n\u001b[1;32m     29\u001b[0m     \u001b[0mnodo_raiz\u001b[0m \u001b[0;34m=\u001b[0m \u001b[0;34m[\u001b[0m\u001b[0;34m[\u001b[0m\u001b[0;34m]\u001b[0m\u001b[0;34m,\u001b[0m\u001b[0mcma\u001b[0m\u001b[0;34m]\u001b[0m \u001b[0;31m# nodo  raiz: [tupla  vacia , cma  global]\u001b[0m\u001b[0;34m\u001b[0m\u001b[0;34m\u001b[0m\u001b[0m\n",
            "\u001b[0;31mNameError\u001b[0m: name 'compute_cma' is not defined"
          ]
        }
      ]
    }
  ]
}