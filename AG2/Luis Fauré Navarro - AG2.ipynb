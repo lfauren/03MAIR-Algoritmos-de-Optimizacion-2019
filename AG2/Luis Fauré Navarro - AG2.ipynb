{
 "cells": [
  {
   "cell_type": "markdown",
   "metadata": {
    "colab_type": "text",
    "id": "view-in-github"
   },
   "source": [
    "<a href=\"https://colab.research.google.com/github/lfauren/03MAIR-Algoritmos-de-Optimizacion-2019/blob/master/AG2/Luis%20Faur%C3%A9%20Navarro%20-%20AG2.ipynb\" target=\"_parent\"><img src=\"https://colab.research.google.com/assets/colab-badge.svg\" alt=\"Open In Colab\"/></a>"
   ]
  },
  {
   "cell_type": "markdown",
   "metadata": {
    "colab_type": "text",
    "id": "JXszRa45hh0I"
   },
   "source": [
    "Luis Fauré Navarro - AG2<br>\n",
    "Actividad Guiada 2<br>\n",
    "Url: https://github.com/lfauren/03MAIR-Algoritmos-de-Optimizacion-2019/tree/master/AG2\n"
   ]
  },
  {
   "cell_type": "code",
   "execution_count": 1,
   "metadata": {
    "colab": {},
    "colab_type": "code",
    "id": "QTQrZoSch6Gm"
   },
   "outputs": [],
   "source": [
    "from time import time\n",
    "#Función para calcular el tiempo de ejecución\n",
    "def calcular_tiempo(f): \n",
    "    def wrapper(*args, **kwargs):      \n",
    "        inicio = time()       \n",
    "        resultado = f(*args, **kwargs)       \n",
    "        tiempo = time() - inicio\n",
    "        print(\"Tiempo de ejecución para algoritmo: \"+str(tiempo))\n",
    "        return resultado \n",
    "    return wrapper"
   ]
  },
  {
   "cell_type": "code",
   "execution_count": 2,
   "metadata": {
    "colab": {
     "base_uri": "https://localhost:8080/",
     "height": 35
    },
    "colab_type": "code",
    "id": "94BLsvw-iGke",
    "outputId": "4fba37a1-dc7e-4e1c-c408-949ea008e6d8"
   },
   "outputs": [
    {
     "name": "stdout",
     "output_type": "stream",
     "text": [
      "[(2633, 6266), (3726, 2652), (5868, 1257), (8526, 7567), (4392, 4474)]\n"
     ]
    }
   ],
   "source": [
    "import math\n",
    "import random\n",
    "\n",
    "N=1000\n",
    "LISTA_2D = [(random.randrange(1,N*10),random.randrange(1,N*10)) for _ in range(N)]\n",
    "print(LISTA_2D[:5])"
   ]
  },
  {
   "cell_type": "code",
   "execution_count": 3,
   "metadata": {
    "colab": {
     "base_uri": "https://localhost:8080/",
     "height": 35
    },
    "colab_type": "code",
    "id": "1k3K3pnEiYEF",
    "outputId": "13a2227a-391a-43a1-f2d0-1e516ccd3f03"
   },
   "outputs": [
    {
     "data": {
      "text/plain": [
       "2.23606797749979"
      ]
     },
     "execution_count": 3,
     "metadata": {},
     "output_type": "execute_result"
    }
   ],
   "source": [
    "def distancia(A,B):\n",
    "  if type(A) is int or type(A) is float:\n",
    "    return abs(B-A)\n",
    "  else:\n",
    "    return math.sqrt(sum([(A[i]-B[i])**2 for i in range(len(A))]))\n",
    "\n",
    "distancia((1,3),(2,5))"
   ]
  },
  {
   "cell_type": "code",
   "execution_count": 4,
   "metadata": {
    "colab": {
     "base_uri": "https://localhost:8080/",
     "height": 54
    },
    "colab_type": "code",
    "id": "sRyun3xIigY_",
    "outputId": "2fcc080f-749f-496f-8668-72332212076f"
   },
   "outputs": [
    {
     "name": "stdout",
     "output_type": "stream",
     "text": [
      "Tiempo de ejecución para algoritmo: 1.312582015991211\n"
     ]
    },
    {
     "data": {
      "text/plain": [
       "((7885, 4605), (3715, 3197))"
      ]
     },
     "execution_count": 4,
     "metadata": {},
     "output_type": "execute_result"
    }
   ],
   "source": [
    "# Fuerza bruta\n",
    "@calcular_tiempo\n",
    "def distancia_fuerza_bruta(L):\n",
    "  mejor_distancia = 100000e10\n",
    "  A,B = (),()\n",
    "  for i in range(len(L)):\n",
    "    for j in range(i+1,len(L)):\n",
    "        if distancia(L[i],L[j]) < mejor_distancia:\n",
    "          A,B = L[i],L[j]\n",
    "  return A,B\n",
    "\n",
    "distancia_fuerza_bruta(LISTA_2D)"
   ]
  },
  {
   "cell_type": "code",
   "execution_count": 5,
   "metadata": {
    "colab": {
     "base_uri": "https://localhost:8080/",
     "height": 109
    },
    "colab_type": "code",
    "id": "m1cDwjRMi84d",
    "outputId": "7cc5891a-45fe-48a8-da26-66ff861dcecc"
   },
   "outputs": [
    {
     "name": "stdout",
     "output_type": "stream",
     "text": [
      "Tiempo de ejecución para algoritmo: 0.0\n",
      "Tiempo de ejecución para algoritmo: 0.0\n",
      "Tiempo de ejecución para algoritmo: 0.0\n",
      "Tiempo de ejecución para algoritmo: 0.0\n",
      "((9289, 8361), (9364, 5537))\n"
     ]
    }
   ],
   "source": [
    "def distancia_divide_y_venceras(L):\n",
    "  if len(L) < 10:\n",
    "    return distancia_fuerza_bruta(L)\n",
    "  #pivote = sum([L[i][0] for i in range(len(L))])/len(L)\n",
    "  LISTA_IZQ = sorted(L, key=lambda x: x[0])[:len(L)//2]\n",
    "  LISTA_DER = sorted(L, key=lambda x: x[0])[len(L)//2:]\n",
    "  PUNTOS_LISTA_IZQ = distancia_divide_y_venceras(LISTA_IZQ)\n",
    "  PUNTOS_LISTA_DER = distancia_divide_y_venceras(LISTA_DER)\n",
    "  return distancia_fuerza_bruta(PUNTOS_LISTA_IZQ + PUNTOS_LISTA_DER) \n",
    "\n",
    "@calcular_tiempo\n",
    "def LANZA(L):\n",
    "  return distancia_divide_y_venceras(L)\n",
    "\n",
    "SOL = LANZA(LISTA_2D[:15])\n",
    "print(SOL)"
   ]
  },
  {
   "cell_type": "code",
   "execution_count": 6,
   "metadata": {
    "colab": {
     "base_uri": "https://localhost:8080/",
     "height": 147
    },
    "colab_type": "code",
    "id": "T0VJJOT9j1T_",
    "outputId": "f03d6856-55d3-4b67-b3e5-dd14c2608aeb"
   },
   "outputs": [
    {
     "name": "stdout",
     "output_type": "stream",
     "text": [
      "[[9999, 5, 4, 3, 8, 8, 11], [9999, 9999, 999, 2, 3, 8, 7], [9999, 9999, 9999, 1, 6, 4, 7], [9999, 9999, 9999, 9999, 5, 6, 9], [9999, 9999, 9999, 9999, 9999, 999, 4], [9999, 9999, 9999, 9999, 9999, 9999, 3], [9999, 9999, 9999, 9999, 9999, 9999, 9999]]\n",
      "\n",
      "[['', 0, 0, 0, 1, 2, 5], ['', '', 1, 1, 1, 3, 4], ['', '', '', 2, 3, 2, 5], ['', '', '', '', 3, 3, 3], ['', '', '', '', '', 4, 4], ['', '', '', '', '', '', 5], ['', '', '', '', '', '', '']]\n",
      "\n",
      "La ruta es:\n"
     ]
    },
    {
     "data": {
      "text/plain": [
       "'0,0,2,5'"
      ]
     },
     "execution_count": 6,
     "metadata": {},
     "output_type": "execute_result"
    }
   ],
   "source": [
    "TARIFAS = [[0,5,4,3,999,999,999],\n",
    "           [999,0,999,2,3,999,11],\n",
    "           [999,999, 0,1,999,4,10],\n",
    "           [999,999,999, 0,5,6,9],\n",
    "           [999,999, 999,999,0,999,4],\n",
    "           [999,999, 999,999,999,0,3],\n",
    "           [999,999,999,999,999,999,0]]\n",
    "\n",
    "def Precios(TARIFAS):\n",
    "  N=len(TARIFAS[0])\n",
    "  PRECIOS = [[9999]*N for i in [9999]*N]\n",
    "  RUTAS = [[\"\"]*N for i in [\"\"]*N]\n",
    "  for i in range(N-1):\n",
    "    for j in range(i+1,N):\n",
    "      MIN = TARIFAS[i][j]\n",
    "      RUTAS[i][j] = i\n",
    "      for k in range(i,j):\n",
    "        if PRECIOS[i][k] + TARIFAS[k][j] < MIN:\n",
    "          MIN = min(MIN, PRECIOS[i][k] + TARIFAS[k][j])\n",
    "          RUTAS[i][j] = k\n",
    "      PRECIOS[i][j] = MIN\n",
    "  return PRECIOS, RUTAS\n",
    "\n",
    "PRECIOS, RUTAS = Precios(TARIFAS)\n",
    "print(PRECIOS)\n",
    "print()\n",
    "print(RUTAS)\n",
    "\n",
    "def calcular_ruta(RUTAS, desde, hasta):\n",
    "  if desde == hasta:\n",
    "    return desde\n",
    "  else:\n",
    "    return str(calcular_ruta(RUTAS,desde,RUTAS[desde][hasta])) + ',' + str(RUTAS[desde][hasta])\n",
    "  \n",
    "print('\\nLa ruta es:')\n",
    "calcular_ruta(RUTAS,0,6)"
   ]
  },
  {
   "cell_type": "code",
   "execution_count": 40,
   "metadata": {
    "colab": {
     "base_uri": "https://localhost:8080/",
     "height": 338
    },
    "colab_type": "code",
    "id": "BT-OwKOv4Q9j",
    "outputId": "c0a594df-797c-47e0-ef3c-e210fdcc3110"
   },
   "outputs": [
    {
     "name": "stdout",
     "output_type": "stream",
     "text": [
      "[(9,2,7,8),(6,4,3,7),(5,8,1,8),(7,6,9,4)]\n",
      "El coste mínimo absoluto alcanzable = 13\n",
      "ms = [1, 0, 2, 3]\n",
      "El coste de la mejor solución obtenida hasta el momento = 13 \n",
      "\n",
      "[(11,12,18,40),(14,15,13,22),(11,17,19,23),(17,14,20,18)]\n",
      "El coste mínimo absoluto alcanzable = 54\n",
      "ms = [1, 2, 0, 3]\n",
      "El coste de la mejor solución obtenida hasta el momento = 54\n"
     ]
    }
   ],
   "source": [
    "# Estime conveniente agregar El problema de la asignación de tareas en Ramificación y poda explicado al final de la clase.\n",
    "# cma: el coste mínimo absoluto alcanzable.\n",
    "# cms: el coste de la mejor solución obtenida hasta el momento.\n",
    "\n",
    "def init_ms(c):\n",
    "  n = len(c)\n",
    "  cdiag1 = 0\n",
    "  cdiag2 = 0\n",
    "  for i in  range(n):\n",
    "    cdiag1  += c[i][i]\n",
    "    cdiag2  += c[i][n-i-1]\n",
    "  if cdiag1 <= cdiag2:\n",
    "    return [i for i in range(n)], cdiag1\n",
    "  else:\n",
    "    return [n-i-1 for i in range(n)], cdiag2\n",
    "\n",
    "def computar_cma(x,c):\n",
    "  n = len(c)\n",
    "  k = len(x)\n",
    "  coste_x = 0\n",
    "  for i in range(k):\n",
    "    coste_x  += c[i][x[i]]\n",
    "  sum_minf = sum(min(c[i][j] for j in range(n) if j not in x) for i in range(k,n))\n",
    "  sum_minc = sum(min(c[i][j] for i in range(k,n)) for j in  range(n) if j not in x)\n",
    "  return  coste_x + max(sum_minf ,sum_minc)\n",
    "\n",
    "def asignar(c):\n",
    "  n = len(c)\n",
    "  ms, cms = init_ms(c)\n",
    "  cma = computar_cma([],c)\n",
    "  if cma <cms:\n",
    "    nodo_raiz = [[],cma] # nodo  raiz: [tupla  vacia , cma  global]\n",
    "    lista = [nodo_raiz]   # lista  de  nodos  vivos\n",
    "  while  len(lista) >0:       # mientras  queden  nodos  vivos\n",
    "    x, cma = lista.pop() # extraemos  el nodo  más  prometedor\n",
    "    tareas = [t for t in range(n) if t not in x]\n",
    "    for t in  tareas:      # ramificacion\n",
    "      x_nuevo = x[:]+[t]\n",
    "      cma_nuevo = computar_cma(x_nuevo ,c)\n",
    "      if cma_nuevo <cms:   # nodo  podado  si  cma_new  >= cms\n",
    "        if len(x_nuevo)==n: # x_nuevo  es  solucion\n",
    "          ms, cms = x_nuevo , cma_nuevo\n",
    "          # cms  actualizado  --> poda de  nodos  con cma >=cms\n",
    "          while  len(lista)>0 and  lista [0][1] >= cms:\n",
    "            lista.pop(0)\n",
    "        else: # insercion  en  orden (de  mayor a menor  cma)\n",
    "          i=len(lista)-1\n",
    "          while i>=0 and lista[i][1]<cma_nuevo:\n",
    "            i -= 1\n",
    "          lista.insert(i+1,[x_nuevo,cma_nuevo])\n",
    "  return cma_nuevo, ms, cms\n",
    "\n",
    "A=[(9,2,7,8),(6,4,3,7),(5,8,1,8),(7,6,9,4)]\n",
    "n0, n1, n2 = asignar(A)\n",
    "print('[(9,2,7,8),(6,4,3,7),(5,8,1,8),(7,6,9,4)]')\n",
    "print('El coste mínimo absoluto alcanzable =',n0)\n",
    "print('La mínima solución es =',n1)\n",
    "print('El coste de la mejor solución obtenida hasta el momento =',n2,'\\n')\n",
    "B=[(11,12,18,40),(14,15,13,22),(11,17,19,23),(17,14,20,18)]\n",
    "n0, n1, n2 = asignar(B)\n",
    "print('[(11,12,18,40),(14,15,13,22),(11,17,19,23),(17,14,20,18)]')\n",
    "print('El coste mínimo absoluto alcanzable =',n0)\n",
    "print('La mínima solución es =',n1)\n",
    "print('El coste de la mejor solución obtenida hasta el momento =',n2)"
   ]
  },
  {
   "cell_type": "code",
   "execution_count": null,
   "metadata": {},
   "outputs": [],
   "source": []
  }
 ],
 "metadata": {
  "colab": {
   "include_colab_link": true,
   "name": "Luis Fauré Navarro - AG2.ipynb",
   "provenance": [],
   "version": "0.3.2"
  },
  "kernelspec": {
   "display_name": "Python 3",
   "language": "python",
   "name": "python3"
  },
  "language_info": {
   "codemirror_mode": {
    "name": "ipython",
    "version": 3
   },
   "file_extension": ".py",
   "mimetype": "text/x-python",
   "name": "python",
   "nbconvert_exporter": "python",
   "pygments_lexer": "ipython3",
   "version": "3.7.0"
  }
 },
 "nbformat": 4,
 "nbformat_minor": 1
}
